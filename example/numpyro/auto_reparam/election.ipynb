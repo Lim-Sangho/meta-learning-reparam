{
 "cells": [
  {
   "cell_type": "code",
   "execution_count": 7,
   "metadata": {},
   "outputs": [],
   "source": [
    "import numpyro\n",
    "import numpyro.distributions as dist\n",
    "import jax.numpy as jnp\n",
    "import numpy as np\n",
    "import pandas\n",
    "\n",
    "from data.election88 import data\n",
    "\n",
    "numpyro.set_platform('cpu')\n",
    "numpyro.set_host_device_count(10)\n",
    "\n",
    "state = np.array(data[\"state\"])-1\n",
    "state_onehot = jnp.array(np.eye(data[\"n_state\"])[state-1])\n",
    "black = jnp.array(data[\"black\"])\n",
    "female = jnp.array(data[\"female\"])\n",
    "y = jnp.array(data[\"y\"])"
   ]
  },
  {
   "cell_type": "code",
   "execution_count": 11,
   "metadata": {},
   "outputs": [],
   "source": [
    "def election(black, female, state_onehot, y):\n",
    "    mean_a = numpyro.sample(\"mean_a\", dist.Normal(0,100))\n",
    "    log_scale_a = numpyro.sample(\"log_scale_a\", dist.Normal(0,10))\n",
    "\n",
    "    with numpyro.plate('state_param', state_onehot.shape[1]):\n",
    "        a = numpyro.sample(\"a\", dist.Normal(mean_a, jnp.exp(log_scale_a)))\n",
    "    \n",
    "    b_black = numpyro.sample(\"b_black\", dist.Normal(0,100))\n",
    "    b_female = numpyro.sample(\"b_female\", dist.Normal(0,100))\n",
    "\n",
    "    logits = jnp.dot(state_onehot,a) + b_black*black + b_female*female\n",
    "\n",
    "    with numpyro.plate('observation', len(y)):\n",
    "        return numpyro.sample('result', dist.Bernoulli(logits = logits),obs=y)"
   ]
  },
  {
   "cell_type": "code",
   "execution_count": 21,
   "metadata": {},
   "outputs": [
    {
     "data": {
      "application/vnd.jupyter.widget-view+json": {
       "model_id": "9c5cc0d9a534441395e092545afe69f1",
       "version_major": 2,
       "version_minor": 0
      },
      "text/plain": [
       "  0%|          | 0/6000 [00:00<?, ?it/s]"
      ]
     },
     "metadata": {},
     "output_type": "display_data"
    },
    {
     "data": {
      "application/vnd.jupyter.widget-view+json": {
       "model_id": "cddd0a852b4245239a9efe62ce9c685e",
       "version_major": 2,
       "version_minor": 0
      },
      "text/plain": [
       "  0%|          | 0/6000 [00:00<?, ?it/s]"
      ]
     },
     "metadata": {},
     "output_type": "display_data"
    },
    {
     "data": {
      "application/vnd.jupyter.widget-view+json": {
       "model_id": "e332ad300ffb4f3da685da6ef1480ee2",
       "version_major": 2,
       "version_minor": 0
      },
      "text/plain": [
       "  0%|          | 0/6000 [00:00<?, ?it/s]"
      ]
     },
     "metadata": {},
     "output_type": "display_data"
    },
    {
     "data": {
      "application/vnd.jupyter.widget-view+json": {
       "model_id": "43bffb06fa2546ff8ae51debf06017c0",
       "version_major": 2,
       "version_minor": 0
      },
      "text/plain": [
       "  0%|          | 0/6000 [00:00<?, ?it/s]"
      ]
     },
     "metadata": {},
     "output_type": "display_data"
    },
    {
     "data": {
      "application/vnd.jupyter.widget-view+json": {
       "model_id": "7314bedb8b9e41b38677438690bcb63d",
       "version_major": 2,
       "version_minor": 0
      },
      "text/plain": [
       "  0%|          | 0/6000 [00:00<?, ?it/s]"
      ]
     },
     "metadata": {},
     "output_type": "display_data"
    },
    {
     "data": {
      "application/vnd.jupyter.widget-view+json": {
       "model_id": "d30f10dafd314a88a2c39aa01d7d0c69",
       "version_major": 2,
       "version_minor": 0
      },
      "text/plain": [
       "  0%|          | 0/6000 [00:00<?, ?it/s]"
      ]
     },
     "metadata": {},
     "output_type": "display_data"
    },
    {
     "data": {
      "application/vnd.jupyter.widget-view+json": {
       "model_id": "cf70b024bf0f460aaeba3eeb95d8513a",
       "version_major": 2,
       "version_minor": 0
      },
      "text/plain": [
       "  0%|          | 0/6000 [00:00<?, ?it/s]"
      ]
     },
     "metadata": {},
     "output_type": "display_data"
    },
    {
     "data": {
      "application/vnd.jupyter.widget-view+json": {
       "model_id": "1116ed3861a444ac83f9e9dbd21df7a5",
       "version_major": 2,
       "version_minor": 0
      },
      "text/plain": [
       "  0%|          | 0/6000 [00:00<?, ?it/s]"
      ]
     },
     "metadata": {},
     "output_type": "display_data"
    },
    {
     "data": {
      "application/vnd.jupyter.widget-view+json": {
       "model_id": "8f421b252f5a452ba38690b37b1e1893",
       "version_major": 2,
       "version_minor": 0
      },
      "text/plain": [
       "  0%|          | 0/6000 [00:00<?, ?it/s]"
      ]
     },
     "metadata": {},
     "output_type": "display_data"
    },
    {
     "data": {
      "application/vnd.jupyter.widget-view+json": {
       "model_id": "0b81ee2ac693449da960abb89e1a55ba",
       "version_major": 2,
       "version_minor": 0
      },
      "text/plain": [
       "  0%|          | 0/6000 [00:00<?, ?it/s]"
      ]
     },
     "metadata": {},
     "output_type": "display_data"
    },
    {
     "name": "stdout",
     "output_type": "stream",
     "text": [
      "\n",
      "                   mean       std    median      5.0%     95.0%     n_eff     r_hat\n",
      "         a[0]      0.43      0.43      0.43     -0.27      1.15  60889.18      1.00\n",
      "         a[1]      0.51      0.15      0.51      0.27      0.76  63997.99      1.00\n",
      "         a[2]      0.45      0.19      0.45      0.14      0.76  63561.88      1.00\n",
      "         a[3]      0.44      0.06      0.44      0.34      0.54  54561.46      1.00\n",
      "         a[4]      0.50      0.16      0.50      0.25      0.77  58873.09      1.00\n",
      "         a[5]      0.27      0.16      0.27     -0.01      0.54  62102.14      1.00\n",
      "         a[6]      0.02      0.27      0.03     -0.41      0.48  57821.70      1.00\n",
      "         a[7]     -0.15      0.39     -0.13     -0.77      0.49  51154.72      1.00\n",
      "         a[8]      0.73      0.09      0.73      0.58      0.86  56249.67      1.00\n",
      "         a[9]      0.64      0.13      0.64      0.43      0.86  61233.54      1.00\n",
      "        a[10]      0.43      0.43      0.44     -0.28      1.14  61848.09      1.00\n",
      "        a[11]      0.21      0.27      0.22     -0.22      0.66  64348.33      1.00\n",
      "        a[12]      0.37      0.10      0.37      0.22      0.53  56940.88      1.00\n",
      "        a[13]      0.84      0.13      0.84      0.62      1.05  61955.54      1.00\n",
      "        a[14]     -0.22      0.18     -0.22     -0.51      0.08  60097.70      1.00\n",
      "        a[15]      0.85      0.18      0.84      0.55      1.13  58831.18      1.00\n",
      "        a[16]      0.50      0.15      0.50      0.26      0.74  63323.51      1.00\n",
      "        a[17]      1.08      0.16      1.08      0.81      1.35  61315.13      1.00\n",
      "        a[18]      0.21      0.24      0.21     -0.18      0.60  62820.92      1.00\n",
      "        a[19]      0.34      0.13      0.34      0.13      0.56  61077.83      1.00\n",
      "        a[20]     -0.03      0.11     -0.03     -0.21      0.15  61033.72      1.00\n",
      "        a[21]      0.48      0.10      0.48      0.32      0.64  56756.57      1.00\n",
      "        a[22]      0.17      0.13      0.17     -0.03      0.38  59747.87      1.00\n",
      "        a[23]      1.28      0.16      1.28      1.02      1.56  55229.08      1.00\n",
      "        a[24]      0.13      0.12      0.13     -0.08      0.33  64520.01      1.00\n",
      "        a[25]     -0.04      0.27     -0.03     -0.49      0.40  59881.36      1.00\n",
      "        a[26]      0.42      0.18      0.42      0.13      0.73  62484.89      1.00\n",
      "        a[27]      0.51      0.30      0.51      0.01      1.00  64093.01      1.00\n",
      "        a[28]      0.58      0.30      0.58      0.08      1.08  62654.88      1.00\n",
      "        a[29]      0.39      0.11      0.39      0.21      0.57  56367.90      1.00\n",
      "        a[30]      0.29      0.19      0.29     -0.01      0.60  62290.36      1.00\n",
      "        a[31]     -0.02      0.08     -0.02     -0.15      0.11  55659.89      1.00\n",
      "        a[32]      0.68      0.12      0.68      0.48      0.88  59205.07      1.00\n",
      "        a[33]      0.37      0.23      0.37     -0.02      0.74  63200.48      1.00\n",
      "        a[34]      0.62      0.09      0.62      0.47      0.77  57265.69      1.00\n",
      "        a[35]      0.37      0.18      0.37      0.08      0.66  61809.76      1.00\n",
      "        a[36]      0.18      0.17      0.18     -0.10      0.45  62334.09      1.00\n",
      "        a[37]      0.25      0.09      0.25      0.10      0.40  55935.01      1.00\n",
      "        a[38]     -0.36      0.21     -0.35     -0.71     -0.01  56633.22      1.00\n",
      "        a[39]      1.06      0.16      1.06      0.80      1.32  61420.61      1.00\n",
      "        a[40]      0.39      0.23      0.39      0.00      0.75  61699.60      1.00\n",
      "        a[41]      0.97      0.13      0.97      0.76      1.18  59176.24      1.00\n",
      "        a[42]      0.49      0.08      0.49      0.36      0.63  56825.26      1.00\n",
      "        a[43]      1.06      0.24      1.06      0.67      1.45  60154.34      1.00\n",
      "        a[44]      0.43      0.35      0.43     -0.14      1.00  65545.87      1.00\n",
      "        a[45]      1.05      0.13      1.05      0.84      1.26  55781.08      1.00\n",
      "        a[46]      0.01      0.11      0.01     -0.18      0.19  60615.88      1.00\n",
      "        a[47]      0.16      0.18      0.16     -0.14      0.44  60770.42      1.00\n",
      "        a[48]      0.13      0.11      0.13     -0.05      0.31  58639.78      1.00\n",
      "        a[49]      0.45      0.33      0.45     -0.11      0.98  63518.80      1.00\n",
      "        a[50]      1.14      0.17      1.14      0.86      1.42  59804.72      1.00\n",
      "      b_black     -1.82      0.09     -1.82     -1.96     -1.67  61081.63      1.00\n",
      "     b_female     -0.12      0.04     -0.12     -0.18     -0.05  29073.09      1.00\n",
      "  log_scale_a     -0.87      0.13     -0.87     -1.09     -0.65  31998.53      1.00\n",
      "       mean_a      0.43      0.07      0.43      0.32      0.55  40177.47      1.00\n",
      "\n",
      "Number of divergences: 0\n"
     ]
    },
    {
     "data": {
      "application/vnd.jupyter.widget-view+json": {
       "model_id": "74c52b7d9ee84205bc95e9523b12f3c2",
       "version_major": 2,
       "version_minor": 0
      },
      "text/plain": [
       "  0%|          | 0/6000 [00:00<?, ?it/s]"
      ]
     },
     "metadata": {},
     "output_type": "display_data"
    },
    {
     "data": {
      "application/vnd.jupyter.widget-view+json": {
       "model_id": "32b706bef51243f48547dcb3a244fde2",
       "version_major": 2,
       "version_minor": 0
      },
      "text/plain": [
       "  0%|          | 0/6000 [00:00<?, ?it/s]"
      ]
     },
     "metadata": {},
     "output_type": "display_data"
    },
    {
     "data": {
      "application/vnd.jupyter.widget-view+json": {
       "model_id": "74386c1db07f43a581f1a7e1949122db",
       "version_major": 2,
       "version_minor": 0
      },
      "text/plain": [
       "  0%|          | 0/6000 [00:00<?, ?it/s]"
      ]
     },
     "metadata": {},
     "output_type": "display_data"
    },
    {
     "data": {
      "application/vnd.jupyter.widget-view+json": {
       "model_id": "c16530ceef714e808a014a87c9d8e499",
       "version_major": 2,
       "version_minor": 0
      },
      "text/plain": [
       "  0%|          | 0/6000 [00:00<?, ?it/s]"
      ]
     },
     "metadata": {},
     "output_type": "display_data"
    },
    {
     "data": {
      "application/vnd.jupyter.widget-view+json": {
       "model_id": "886e9ae333584338ba8f175b0d882da1",
       "version_major": 2,
       "version_minor": 0
      },
      "text/plain": [
       "  0%|          | 0/6000 [00:00<?, ?it/s]"
      ]
     },
     "metadata": {},
     "output_type": "display_data"
    },
    {
     "data": {
      "application/vnd.jupyter.widget-view+json": {
       "model_id": "508074dce2a5474ca0e4ab8d46036dfa",
       "version_major": 2,
       "version_minor": 0
      },
      "text/plain": [
       "  0%|          | 0/6000 [00:00<?, ?it/s]"
      ]
     },
     "metadata": {},
     "output_type": "display_data"
    },
    {
     "data": {
      "application/vnd.jupyter.widget-view+json": {
       "model_id": "b5edde8d850b43c99bc24324476e1ed1",
       "version_major": 2,
       "version_minor": 0
      },
      "text/plain": [
       "  0%|          | 0/6000 [00:00<?, ?it/s]"
      ]
     },
     "metadata": {},
     "output_type": "display_data"
    },
    {
     "data": {
      "application/vnd.jupyter.widget-view+json": {
       "model_id": "91e82e1addad410097a69a2aa493623c",
       "version_major": 2,
       "version_minor": 0
      },
      "text/plain": [
       "  0%|          | 0/6000 [00:00<?, ?it/s]"
      ]
     },
     "metadata": {},
     "output_type": "display_data"
    },
    {
     "data": {
      "application/vnd.jupyter.widget-view+json": {
       "model_id": "24e90862027a4ed7bbb5f88925c746c0",
       "version_major": 2,
       "version_minor": 0
      },
      "text/plain": [
       "  0%|          | 0/6000 [00:00<?, ?it/s]"
      ]
     },
     "metadata": {},
     "output_type": "display_data"
    },
    {
     "data": {
      "application/vnd.jupyter.widget-view+json": {
       "model_id": "7f9361204b4e4866a7c51d6b2f87a455",
       "version_major": 2,
       "version_minor": 0
      },
      "text/plain": [
       "  0%|          | 0/6000 [00:00<?, ?it/s]"
      ]
     },
     "metadata": {},
     "output_type": "display_data"
    },
    {
     "name": "stdout",
     "output_type": "stream",
     "text": [
      "\n",
      "                      mean       std    median      5.0%     95.0%     n_eff     r_hat\n",
      " a_decentered[0]     -0.00      1.00     -0.00     -1.62      1.67  63488.70      1.00\n",
      " a_decentered[1]      0.18      0.39      0.18     -0.46      0.81  30664.23      1.00\n",
      " a_decentered[2]      0.04      0.46      0.04     -0.72      0.80  35853.86      1.00\n",
      " a_decentered[3]      0.01      0.21      0.01     -0.33      0.35  10716.40      1.00\n",
      " a_decentered[4]      0.17      0.41      0.17     -0.49      0.85  30850.99      1.00\n",
      " a_decentered[5]     -0.39      0.42     -0.39     -1.05      0.31  32699.73      1.00\n",
      " a_decentered[6]     -0.97      0.65     -0.97     -2.06      0.06  49392.70      1.00\n",
      " a_decentered[7]     -1.36      0.87     -1.35     -2.80      0.05  61329.70      1.00\n",
      " a_decentered[8]      0.70      0.26      0.69      0.27      1.13  14250.55      1.00\n",
      " a_decentered[9]      0.50      0.34      0.50     -0.06      1.05  22559.22      1.00\n",
      "a_decentered[10]     -0.00      1.00     -0.00     -1.72      1.57  66489.32      1.00\n",
      "a_decentered[11]     -0.52      0.65     -0.52     -1.56      0.57  54177.27      1.00\n",
      "a_decentered[12]     -0.15      0.27     -0.15     -0.59      0.30  16797.73      1.00\n",
      "a_decentered[13]      0.97      0.36      0.96      0.41      1.57  21260.69      1.00\n",
      "a_decentered[14]     -1.57      0.46     -1.56     -2.34     -0.83  27106.06      1.00\n",
      "a_decentered[15]      0.99      0.45      0.98      0.28      1.74  32501.85      1.00\n",
      "a_decentered[16]      0.16      0.38      0.15     -0.44      0.78  28185.59      1.00\n",
      "a_decentered[17]      1.55      0.43      1.53      0.84      2.25  25620.39      1.00\n",
      "a_decentered[18]     -0.53      0.58     -0.53     -1.47      0.43  51147.49      1.00\n",
      "a_decentered[19]     -0.22      0.34     -0.22     -0.81      0.32  23149.18      1.00\n",
      "a_decentered[20]     -1.11      0.33     -1.11     -1.64     -0.57  16836.80      1.00\n",
      "a_decentered[21]      0.11      0.27      0.11     -0.35      0.55  17519.48      1.00\n",
      "a_decentered[22]     -0.63      0.34     -0.62     -1.19     -0.07  20907.36      1.00\n",
      "a_decentered[23]      2.04      0.44      2.02      1.31      2.75  21481.12      1.00\n",
      "a_decentered[24]     -0.73      0.34     -0.72     -1.29     -0.17  20450.20      1.00\n",
      "a_decentered[25]     -1.11      0.65     -1.11     -2.18     -0.07  51507.55      1.00\n",
      "a_decentered[26]     -0.03      0.45     -0.03     -0.79      0.70  37547.73      1.00\n",
      "a_decentered[27]      0.18      0.71      0.18     -1.02      1.32  59645.86      1.00\n",
      "a_decentered[28]      0.36      0.72      0.36     -0.83      1.53  57603.06      1.00\n",
      "a_decentered[29]     -0.12      0.29     -0.11     -0.60      0.36  18576.09      1.00\n",
      "a_decentered[30]     -0.34      0.46     -0.34     -1.10      0.43  38308.09      1.00\n",
      "a_decentered[31]     -1.10      0.27     -1.10     -1.55     -0.65  11934.10      1.00\n",
      "a_decentered[32]      0.59      0.33      0.58      0.04      1.12  21717.21      1.00\n",
      "a_decentered[33]     -0.16      0.56     -0.16     -1.09      0.76  49967.68      1.00\n",
      "a_decentered[34]      0.44      0.27      0.43      0.01      0.89  15578.15      1.00\n",
      "a_decentered[35]     -0.16      0.44     -0.16     -0.88      0.57  34943.77      1.00\n",
      "a_decentered[36]     -0.60      0.43     -0.59     -1.32      0.09  29750.02      1.00\n",
      "a_decentered[37]     -0.45      0.27     -0.45     -0.87     -0.00  15076.38      1.00\n",
      "a_decentered[38]     -1.89      0.53     -1.88     -2.74     -1.02  34469.68      1.00\n",
      "a_decentered[39]      1.49      0.42      1.48      0.80      2.18  25012.35      1.00\n",
      "a_decentered[40]     -0.11      0.56     -0.11     -1.03      0.80  45788.32      1.00\n",
      "a_decentered[41]      1.29      0.36      1.28      0.71      1.89  19348.40      1.00\n",
      "a_decentered[42]      0.14      0.24      0.14     -0.25      0.55  13911.37      1.00\n",
      "a_decentered[43]      1.50      0.57      1.49      0.58      2.44  45270.33      1.00\n",
      "a_decentered[44]     -0.01      0.82     -0.01     -1.39      1.33  62032.57      1.00\n",
      "a_decentered[45]      1.49      0.37      1.47      0.89      2.08  19645.10      1.00\n",
      "a_decentered[46]     -1.03      0.32     -1.02     -1.56     -0.50  16620.27      1.00\n",
      "a_decentered[47]     -0.66      0.45     -0.66     -1.38      0.08  30445.16      1.00\n",
      "a_decentered[48]     -0.74      0.31     -0.73     -1.26     -0.23  17495.52      1.00\n",
      "a_decentered[49]      0.03      0.79      0.03     -1.28      1.33  63331.51      1.00\n",
      "a_decentered[50]      1.70      0.45      1.68      0.96      2.42  25823.91      1.00\n",
      "         b_black     -1.82      0.09     -1.82     -1.97     -1.68  63671.30      1.00\n",
      "        b_female     -0.12      0.04     -0.12     -0.18     -0.05  61745.17      1.00\n",
      "     log_scale_a     -0.87      0.13     -0.87     -1.09     -0.66  10783.70      1.00\n",
      "          mean_a      0.43      0.07      0.43      0.31      0.55   7251.50      1.00\n",
      "\n",
      "Number of divergences: 0\n"
     ]
    }
   ],
   "source": [
    "from jax import random\n",
    "from numpyro.infer import MCMC, NUTS \n",
    "\n",
    "from numpyro.handlers import reparam\n",
    "from numpyro.infer.reparam import LocScaleReparam\n",
    "\n",
    "nuts_kernel = NUTS(election)\n",
    "\n",
    "mcmc = MCMC(nuts_kernel, num_warmup=1000, num_samples=5000 ,num_chains=10)\n",
    "\n",
    "rng_key = random.PRNGKey(0)\n",
    "\n",
    "mcmc.run(rng_key, black, female, state_onehot, y, extra_fields=('num_steps',))\n",
    "\n",
    "mcmc.print_summary()\n",
    "\n",
    "\n",
    "\n",
    "reparam_model = reparam(election, config={\"a\": LocScaleReparam(0)})\n",
    "\n",
    "nuts_kernel2 = NUTS(reparam_model)\n",
    "\n",
    "mcmc2 = MCMC(nuts_kernel2, num_warmup=1000, num_samples=5000 ,num_chains=10)\n",
    "\n",
    "rng_key2 = random.PRNGKey(0)\n",
    "\n",
    "mcmc2.run(rng_key, black, female, state_onehot, y, extra_fields=('num_steps',))\n",
    "\n",
    "\n",
    "mcmc2.print_summary()"
   ]
  },
  {
   "cell_type": "code",
   "execution_count": 17,
   "metadata": {},
   "outputs": [
    {
     "name": "stderr",
     "output_type": "stream",
     "text": [
      "100%|██████████| 20000/20000 [00:32<00:00, 618.88it/s, init loss: 83676.1641, avg. loss [19001-20000]: 7605.6636]\n"
     ]
    }
   ],
   "source": [
    "from numpyro.infer import SVI, Trace_ELBO\n",
    "from numpyro.infer.autoguide import AutoNormal\n",
    "from numpyro.optim import Adam\n",
    "\n",
    "optimizer = Adam(step_size = 0.05)\n",
    "\n",
    "learnable_model = reparam(election, config={\"mean_a\": LocScaleReparam(),\"log_scale_a\": LocScaleReparam(),\"a\": LocScaleReparam(), \"b_black\": LocScaleReparam(), \"b_female\": LocScaleReparam()})\n",
    "\n",
    "# setup the inference algorithm\n",
    "svi = SVI(learnable_model, AutoNormal(learnable_model), optimizer, loss=Trace_ELBO())\n",
    "\n",
    "# do gradient steps\n",
    "svi_result = svi.run(random.PRNGKey(0), 20000, black, female, state_onehot, y)\n",
    "params = svi_result.params"
   ]
  },
  {
   "cell_type": "code",
   "execution_count": 18,
   "metadata": {},
   "outputs": [
    {
     "data": {
      "text/plain": [
       "{'a_centered': DeviceArray(0.01152046, dtype=float32),\n",
       " 'a_decentered_auto_loc': DeviceArray([ 0.16957209,  0.2497343 ,  0.00467953,  0.07183243,\n",
       "               0.36429596, -0.3674008 , -1.0734462 , -1.4650859 ,\n",
       "               0.7028089 ,  0.6113871 ,  0.01626012, -0.18858299,\n",
       "              -0.21062893,  1.0230243 , -1.6301727 ,  0.91783285,\n",
       "               0.20873275,  1.7495271 , -0.68199146, -0.30577976,\n",
       "              -1.1665448 ,  0.11208902, -0.7536845 ,  2.2065012 ,\n",
       "              -0.82361096, -1.0587468 ,  0.18874536,  0.35023004,\n",
       "               0.34948853, -0.08739155, -0.35708398, -1.062291  ,\n",
       "               0.51508826, -0.02952179,  0.4292868 ,  0.04279809,\n",
       "              -0.4950164 , -0.44563857, -2.0882251 ,  1.570776  ,\n",
       "              -0.04335152,  1.3176328 ,  0.03253926,  1.4917134 ,\n",
       "               0.06242191,  1.5670143 , -0.9344607 , -0.8193793 ,\n",
       "              -0.59759915,  0.02053729,  1.6927997 ], dtype=float32),\n",
       " 'a_decentered_auto_scale': DeviceArray([1.0786226 , 0.31565294, 0.47073725, 0.14195336, 0.37220892,\n",
       "              0.41351122, 0.7933415 , 0.86657417, 0.19084813, 0.29235476,\n",
       "              0.9302411 , 0.42795923, 0.2191006 , 0.397009  , 0.42820987,\n",
       "              0.4521007 , 0.47296542, 0.40047115, 0.60452926, 0.33496714,\n",
       "              0.18824081, 0.293206  , 0.3560845 , 0.44599408, 0.32444248,\n",
       "              0.5976168 , 0.50028104, 0.8808217 , 0.67151064, 0.26498958,\n",
       "              0.46692127, 0.23018059, 0.28719333, 0.5589471 , 0.208778  ,\n",
       "              0.43234238, 0.4805242 , 0.18519711, 0.4804473 , 0.40576833,\n",
       "              0.52119654, 0.32683352, 0.21777974, 0.53061545, 0.88191974,\n",
       "              0.3341764 , 0.35528946, 0.46344465, 0.3079954 , 0.8220402 ,\n",
       "              0.3058879 ], dtype=float32),\n",
       " 'b_black_centered': DeviceArray(0.9997036, dtype=float32),\n",
       " 'b_black_decentered_auto_loc': DeviceArray(-1.7628403, dtype=float32),\n",
       " 'b_black_decentered_auto_scale': DeviceArray(0.09116316, dtype=float32),\n",
       " 'b_female_centered': DeviceArray(0.9997179, dtype=float32),\n",
       " 'b_female_decentered_auto_loc': DeviceArray(-0.10895565, dtype=float32),\n",
       " 'b_female_decentered_auto_scale': DeviceArray(0.02314959, dtype=float32),\n",
       " 'log_scale_a_centered': DeviceArray(0.9969428, dtype=float32),\n",
       " 'log_scale_a_decentered_auto_loc': DeviceArray(-0.95639825, dtype=float32),\n",
       " 'log_scale_a_decentered_auto_scale': DeviceArray(0.05132132, dtype=float32),\n",
       " 'mean_a_centered': DeviceArray(0.999777, dtype=float32),\n",
       " 'mean_a_decentered_auto_loc': DeviceArray(0.4307645, dtype=float32),\n",
       " 'mean_a_decentered_auto_scale': DeviceArray(0.01211435, dtype=float32)}"
      ]
     },
     "execution_count": 18,
     "metadata": {},
     "output_type": "execute_result"
    }
   ],
   "source": [
    "params"
   ]
  },
  {
   "cell_type": "code",
   "execution_count": 19,
   "metadata": {},
   "outputs": [
    {
     "data": {
      "application/vnd.jupyter.widget-view+json": {
       "model_id": "182b91ef99b843dbbff5e3365d8ae599",
       "version_major": 2,
       "version_minor": 0
      },
      "text/plain": [
       "  0%|          | 0/6000 [00:00<?, ?it/s]"
      ]
     },
     "metadata": {},
     "output_type": "display_data"
    },
    {
     "data": {
      "application/vnd.jupyter.widget-view+json": {
       "model_id": "9a3a3c3a32bd4a00aecf0ab27f636b76",
       "version_major": 2,
       "version_minor": 0
      },
      "text/plain": [
       "  0%|          | 0/6000 [00:00<?, ?it/s]"
      ]
     },
     "metadata": {},
     "output_type": "display_data"
    },
    {
     "data": {
      "application/vnd.jupyter.widget-view+json": {
       "model_id": "a323e846498542b9bf2a6bbfcbfb333a",
       "version_major": 2,
       "version_minor": 0
      },
      "text/plain": [
       "  0%|          | 0/6000 [00:00<?, ?it/s]"
      ]
     },
     "metadata": {},
     "output_type": "display_data"
    },
    {
     "data": {
      "application/vnd.jupyter.widget-view+json": {
       "model_id": "c4c8e92ebae1402fad7ca693e5a49fd2",
       "version_major": 2,
       "version_minor": 0
      },
      "text/plain": [
       "  0%|          | 0/6000 [00:00<?, ?it/s]"
      ]
     },
     "metadata": {},
     "output_type": "display_data"
    },
    {
     "data": {
      "application/vnd.jupyter.widget-view+json": {
       "model_id": "41bc5f2c4cb44a64a940a21a3cd24f6a",
       "version_major": 2,
       "version_minor": 0
      },
      "text/plain": [
       "  0%|          | 0/6000 [00:00<?, ?it/s]"
      ]
     },
     "metadata": {},
     "output_type": "display_data"
    },
    {
     "data": {
      "application/vnd.jupyter.widget-view+json": {
       "model_id": "a180af2af7184b259e03055dd952216d",
       "version_major": 2,
       "version_minor": 0
      },
      "text/plain": [
       "  0%|          | 0/6000 [00:00<?, ?it/s]"
      ]
     },
     "metadata": {},
     "output_type": "display_data"
    },
    {
     "data": {
      "application/vnd.jupyter.widget-view+json": {
       "model_id": "598b73b4349d4735a161630b5fd97383",
       "version_major": 2,
       "version_minor": 0
      },
      "text/plain": [
       "  0%|          | 0/6000 [00:00<?, ?it/s]"
      ]
     },
     "metadata": {},
     "output_type": "display_data"
    },
    {
     "data": {
      "application/vnd.jupyter.widget-view+json": {
       "model_id": "b6f4f0fab9934b18809d644147327348",
       "version_major": 2,
       "version_minor": 0
      },
      "text/plain": [
       "  0%|          | 0/6000 [00:00<?, ?it/s]"
      ]
     },
     "metadata": {},
     "output_type": "display_data"
    },
    {
     "data": {
      "application/vnd.jupyter.widget-view+json": {
       "model_id": "ecee975f312141bb8550a51f9c7b9be6",
       "version_major": 2,
       "version_minor": 0
      },
      "text/plain": [
       "  0%|          | 0/6000 [00:00<?, ?it/s]"
      ]
     },
     "metadata": {},
     "output_type": "display_data"
    },
    {
     "data": {
      "application/vnd.jupyter.widget-view+json": {
       "model_id": "233329fc098941e99b72a2a3c09c1a28",
       "version_major": 2,
       "version_minor": 0
      },
      "text/plain": [
       "  0%|          | 0/6000 [00:00<?, ?it/s]"
      ]
     },
     "metadata": {},
     "output_type": "display_data"
    },
    {
     "name": "stdout",
     "output_type": "stream",
     "text": [
      "\n",
      "                              mean       std    median      5.0%     95.0%     n_eff     r_hat\n",
      "         a_decentered[0]      0.21      0.65      0.21     -0.86      1.28 110148.71      1.00\n",
      "         a_decentered[1]      0.33      0.24      0.33     -0.06      0.72  80524.11      1.00\n",
      "         a_decentered[2]      0.25      0.29      0.24     -0.23      0.71  86338.23      1.00\n",
      "         a_decentered[3]      0.22      0.11      0.22      0.04      0.41  32927.29      1.00\n",
      "         a_decentered[4]      0.33      0.25      0.33     -0.08      0.75  83825.05      1.00\n",
      "         a_decentered[5]     -0.04      0.26     -0.04     -0.46      0.38  88796.06      1.00\n",
      "         a_decentered[6]     -0.41      0.41     -0.41     -1.08      0.28 100273.00      1.00\n",
      "         a_decentered[7]     -0.67      0.57     -0.66     -1.62      0.25  98837.29      1.00\n",
      "         a_decentered[8]      0.67      0.15      0.67      0.43      0.91  45417.31      1.00\n",
      "         a_decentered[9]      0.54      0.21      0.54      0.20      0.88  67731.45      1.00\n",
      "        a_decentered[10]      0.22      0.65      0.22     -0.85      1.28 103523.81      1.00\n",
      "        a_decentered[11]     -0.12      0.41     -0.12     -0.79      0.56 102940.96      1.00\n",
      "        a_decentered[12]      0.12      0.16      0.12     -0.14      0.38  52825.02      1.00\n",
      "        a_decentered[13]      0.84      0.21      0.84      0.50      1.19  68691.23      1.00\n",
      "        a_decentered[14]     -0.79      0.28     -0.79     -1.24     -0.33  84577.49      1.00\n",
      "        a_decentered[15]      0.86      0.28      0.85      0.40      1.30  85304.30      1.00\n",
      "        a_decentered[16]      0.32      0.23      0.32     -0.07      0.69  75989.75      1.00\n",
      "        a_decentered[17]      1.21      0.25      1.21      0.80      1.64  75425.48      1.00\n",
      "        a_decentered[18]     -0.13      0.37     -0.13     -0.73      0.47  95594.22      1.00\n",
      "        a_decentered[19]      0.08      0.21      0.08     -0.26      0.42  69962.10      1.00\n",
      "        a_decentered[20]     -0.50      0.18     -0.50     -0.80     -0.20  58377.56      1.00\n",
      "        a_decentered[21]      0.29      0.16      0.29      0.03      0.56  54798.71      1.00\n",
      "        a_decentered[22]     -0.19      0.20     -0.19     -0.52      0.15  65217.22      1.00\n",
      "        a_decentered[23]      1.53      0.25      1.53      1.14      1.96  78923.96      1.00\n",
      "        a_decentered[24]     -0.25      0.20     -0.25     -0.58      0.07  68626.36      1.00\n",
      "        a_decentered[25]     -0.51      0.41     -0.50     -1.20      0.15 101637.55      1.00\n",
      "        a_decentered[26]      0.20      0.28      0.19     -0.26      0.67  89702.07      1.00\n",
      "        a_decentered[27]      0.34      0.46      0.34     -0.42      1.08 112579.23      1.00\n",
      "        a_decentered[28]      0.45      0.46      0.45     -0.29      1.22 106705.53      1.00\n",
      "        a_decentered[29]      0.14      0.17      0.14     -0.14      0.43  56711.85      1.00\n",
      "        a_decentered[30]     -0.00      0.29     -0.00     -0.48      0.48  92345.02      1.00\n",
      "        a_decentered[31]     -0.49      0.14     -0.49     -0.72     -0.26  39069.98      1.00\n",
      "        a_decentered[32]      0.60      0.20      0.59      0.27      0.92  65505.49      1.00\n",
      "        a_decentered[33]      0.11      0.36      0.11     -0.48      0.70 104262.63      1.00\n",
      "        a_decentered[34]      0.50      0.15      0.50      0.24      0.74  48770.50      1.00\n",
      "        a_decentered[35]      0.11      0.28      0.11     -0.33      0.58  84808.45      1.00\n",
      "        a_decentered[36]     -0.17      0.26     -0.17     -0.61      0.26  81679.87      1.00\n",
      "        a_decentered[37]     -0.07      0.15     -0.07     -0.33      0.17  48305.01      1.00\n",
      "        a_decentered[38]     -1.00      0.32     -1.00     -1.54     -0.48  94371.80      1.00\n",
      "        a_decentered[39]      1.18      0.25      1.18      0.78      1.58  81443.56      1.00\n",
      "        a_decentered[40]      0.14      0.35      0.14     -0.44      0.72  96961.80      1.00\n",
      "        a_decentered[41]      1.05      0.20      1.05      0.72      1.39  65811.84      1.00\n",
      "        a_decentered[42]      0.31      0.14      0.31      0.08      0.54  43014.82      1.00\n",
      "        a_decentered[43]      1.18      0.36      1.18      0.60      1.77  97606.40      1.00\n",
      "        a_decentered[44]      0.21      0.53      0.21     -0.63      1.12 113400.82      1.00\n",
      "        a_decentered[45]      1.17      0.21      1.17      0.84      1.52  69647.04      1.00\n",
      "        a_decentered[46]     -0.44      0.18     -0.44     -0.75     -0.15  56815.88      1.00\n",
      "        a_decentered[47]     -0.21      0.28     -0.21     -0.66      0.24  85471.80      1.00\n",
      "        a_decentered[48]     -0.26      0.18     -0.25     -0.55      0.05  58305.67      1.00\n",
      "        a_decentered[49]      0.24      0.51      0.24     -0.62      1.06 117894.00      1.00\n",
      "        a_decentered[50]      1.31      0.26      1.31      0.88      1.74  84404.44      1.00\n",
      "      b_black_decentered     -0.18      0.01     -0.18     -0.20     -0.17 107969.39      1.00\n",
      "     b_female_decentered     -0.01      0.00     -0.01     -0.02     -0.01 107555.76      1.00\n",
      "  log_scale_a_decentered     -0.28      0.04     -0.28     -0.35     -0.21  44594.31      1.00\n",
      "       mean_a_decentered      0.04      0.01      0.04      0.03      0.05  21868.47      1.00\n",
      "\n",
      "Number of divergences: 0\n"
     ]
    }
   ],
   "source": [
    "nuts_kernel3 = NUTS(learnable_model)\n",
    "\n",
    "mcmc3 = MCMC(nuts_kernel3, num_warmup=1000, num_samples=5000 ,num_chains=10)\n",
    "\n",
    "rng_key3 = random.PRNGKey(0)\n",
    "\n",
    "mcmc3.run(rng_key3, black, female, state_onehot, y, extra_fields=('num_steps',))\n",
    "\n",
    "mcmc3.print_summary()"
   ]
  }
 ],
 "metadata": {
  "kernelspec": {
   "display_name": "Python 3.9.13 ('numpyro')",
   "language": "python",
   "name": "python3"
  },
  "language_info": {
   "codemirror_mode": {
    "name": "ipython",
    "version": 3
   },
   "file_extension": ".py",
   "mimetype": "text/x-python",
   "name": "python",
   "nbconvert_exporter": "python",
   "pygments_lexer": "ipython3",
   "version": "3.9.13"
  },
  "orig_nbformat": 4,
  "vscode": {
   "interpreter": {
    "hash": "a6483b6e6f647e6df113ab5f48f1f87a759fad2630802ebe8bd3a55121497d18"
   }
  }
 },
 "nbformat": 4,
 "nbformat_minor": 2
}
